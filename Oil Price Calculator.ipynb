{
 "cells": [
  {
   "cell_type": "markdown",
   "metadata": {
    "toc": true
   },
   "source": [
    "<h1>Table of Contents<span class=\"tocSkip\"></span></h1>\n",
    "<div class=\"toc\"><ul class=\"toc-item\"><li><span><a href=\"#Задание-1.\" data-toc-modified-id=\"Задание-1.-1\"><span class=\"toc-item-num\">1&nbsp;&nbsp;</span>Задание 1.</a></span><ul class=\"toc-item\"><li><ul class=\"toc-item\"><li><span><a href=\"#Дополнительные-вводные:\" data-toc-modified-id=\"Дополнительные-вводные:-1.0.1\"><span class=\"toc-item-num\">1.0.1&nbsp;&nbsp;</span>Дополнительные вводные:</a></span></li><li><span><a href=\"#Что-нужно-сделать?\" data-toc-modified-id=\"Что-нужно-сделать?-1.0.2\"><span class=\"toc-item-num\">1.0.2&nbsp;&nbsp;</span>Что нужно сделать?</a></span></li><li><span><a href=\"#В-результате-должно-быть-3-файла:\" data-toc-modified-id=\"В-результате-должно-быть-3-файла:-1.0.3\"><span class=\"toc-item-num\">1.0.3&nbsp;&nbsp;</span>В результате должно быть 3 файла:</a></span></li></ul></li></ul></li><li><span><a href=\"#Задание-2.-Back-to-Russia\" data-toc-modified-id=\"Задание-2.-Back-to-Russia-2\"><span class=\"toc-item-num\">2&nbsp;&nbsp;</span>Задание 2. Back to Russia</a></span></li><li><span><a href=\"#Задание-3.-Check-it\" data-toc-modified-id=\"Задание-3.-Check-it-3\"><span class=\"toc-item-num\">3&nbsp;&nbsp;</span>Задание 3. Check it</a></span></li><li><span><a href=\"#Задание-4.-Поделись-с-ближним\" data-toc-modified-id=\"Задание-4.-Поделись-с-ближним-4\"><span class=\"toc-item-num\">4&nbsp;&nbsp;</span>Задание 4. Поделись с ближним</a></span></li></ul></div>"
   ]
  },
  {
   "cell_type": "code",
   "execution_count": 34,
   "metadata": {},
   "outputs": [],
   "source": [
    "\n",
    "%matplotlib inline\n",
    "import yfinance as yf\n",
    "import pandas as pd\n",
    "import matplotlib.pyplot as plt\n",
    "import seaborn; seaborn.set()\n",
    "from pandas_datareader import data as pdr\n",
    "from bs4 import BeautifulSoup\n",
    "import numpy as np\n",
    "import openpyxl\n",
    "from openpyxl import load_workbook\n",
    "import os\n",
    "import os.path\n",
    "from pathlib import Path\n",
    "from pycbrf.toolbox import ExchangeRates\n",
    "import datetime\n",
    "from datetime import date\n",
    "import os\n",
    "from openpyxl import Workbook"
   ]
  },
  {
   "cell_type": "markdown",
   "metadata": {},
   "source": [
    "# Задание 1.\n",
    "\n",
    "Вы - менеджер по продажам в нефтехимической компании. Вы ведете несколько ключевых клиентов, которые закупают продукты вашей компании. Ваша компания запускает новый продукт - \"Волшебный белый порошок\" (ВБП), который по своим свойствам похож на тот, что уже есть на рынке. Ваши клиенты предпочитают формульный подход к ценообразованию. Вам нужно предложить клиентам формулу расчета цены на ВБП. В зависимости от объемов, которые покупают клиенты, им может быть предложена скидка.\n",
    "\n",
    "### Дополнительные вводные:\n",
    "\n",
    "Так как продукт Б новый, возможно стоит предложить дисконт от цены Продукта А. Продукт производиться из нефти. Один из известных способов производства предполагает что из 16 баррелей нефти сделают одну тонну ВБП, а затраты на производство в районе 400 евро."
   ]
  },
  {
   "cell_type": "code",
   "execution_count": 35,
   "metadata": {},
   "outputs": [],
   "source": [
    "# Из данных есть:\n",
    "# Цены на продукт А, который уже есть на рынке Европы\n",
    "# ----- октябрь 2018 - 1600 евро\n",
    "# ----- ноябрь 2018 - 1550 евро\n",
    "# ----- февраль 2019 - 1600 евро\n",
    "\n",
    "# Котировки нефти, курс eur/usd\n",
    "dbc = pd.read_excel('cur_oil.xlsx')\n",
    "\n",
    "# Затраты на производство\n",
    "PRODUCTION_COST = 400 # (EUR)\n",
    "\n",
    "# Расходы на логистику\n",
    "EU_LOGISTIC_COST_EUR = 30 # в Европу в евро\n",
    "CN_LOGISTIC_COST_USD = 130 # в Китай в долларах\n",
    "\n",
    "# * Справочная информация по клиентам(объемы, локации, комментарии) \n",
    "customers = {\n",
    "    'Monty':{\n",
    "        'location':'EU',\n",
    "        'volumes':200,\n",
    "        'comment':'moving_average'\n",
    "    },\n",
    "    \n",
    "    'Triangle':{\n",
    "        'location':'CN',\n",
    "        'volumes': 30,\n",
    "        'comment': 'monthly'\n",
    "    },\n",
    "    'Stone':{\n",
    "        'location':'EU',\n",
    "        'volumes': 150,\n",
    "        'comment': 'moving_average'\n",
    "    },\n",
    "    'Poly':{\n",
    "        'location':'EU',\n",
    "        'volumes': 70,\n",
    "        'comment': 'monthly'\n",
    "    }\n",
    "}\n",
    "# Скидки\n",
    "discounts = {'up to 100': 0.01, # 1%\n",
    "             'up to 300': 0.05, # 5%\n",
    "             '300 plus': 0.1}   #10%\n",
    "\n"
   ]
  },
  {
   "cell_type": "markdown",
   "metadata": {},
   "source": [
    "### Что нужно сделать?\n",
    "\n",
    "1. Проанализировать имеющиеся данные.\n",
    "2. Определить базовую формулу цены на условиях FCA (цена на заводе). То есть как бы выглядела цена на исторических данных.\n",
    "3. Отобразить на графике.\n",
    "4. Сделать расчет возможной цены по формуле для каждого из клиентов на условиях DDP (цена с доставкой). Записать все в один эксель файл, на разных листах. Каждый лист - название клиента.\n",
    "5. Предложить формулу цены каждому из клиентов на условиях DDP (цена с доставкой).\n",
    "- Создать директорию «для клиентов» и в ней сложить  файлы с расчетами.\n",
    "- Каждый клиент - отдельный файл (любой из docx, xlsx, pptx, pdf)  с именем клиента… \n",
    "\n",
    "### В результате должно быть 3 файла:\n",
    "1. Ноутбук с расчетами и графиками. \n",
    "2. Скрипт, который делает расчет цены для каждого клиента в одном файле\n",
    "2. Скрипт, который делает расчет цены для каждого клиента в отельном файле"
   ]
  },
  {
   "cell_type": "code",
   "execution_count": 36,
   "metadata": {},
   "outputs": [],
   "source": [
    "dbc = pd.read_excel('cur_oil.xlsx')\n",
    "\n",
    "\n",
    "# определить дату и курс на нее\n",
    "# FCA = цена за барль * курс * 16 + 400\n",
    "# создать график\n",
    "# определить дату, курс и клиент на нее\n",
    "# DDP = цена за барль * курс * 16 + 400 + логистика в европу - дисконт * цену А\n",
    "#                                        + логистика в китай * курс - дисконт * цену А\n",
    "#\n",
    "#\n",
    "\n"
   ]
  },
  {
   "cell_type": "code",
   "execution_count": 37,
   "metadata": {},
   "outputs": [
    {
     "data": {
      "text/plain": [
       "[<matplotlib.lines.Line2D at 0x2311eebc190>]"
      ]
     },
     "execution_count": 37,
     "metadata": {},
     "output_type": "execute_result"
    },
    {
     "data": {
      "image/png": "[encoded data removed]",
      "text/plain": [
       "<Figure size 432x288 with 1 Axes>"
      ]
     },
     "metadata": {},
     "output_type": "display_data"
    }
   ],
   "source": [
    "#Определить базовую формулу цены на условиях FCA (цена на заводе). То есть как бы выглядела цена на исторических данных.\n",
    "#Отобразить на графике.\n",
    "dbc['FCA'] = dbc['OIL']/dbc['EURUSD=X'] * 16 + PRODUCTION_COST\n",
    "plt.plot(dbc['Date'], dbc['FCA'])"
   ]
  },
  {
   "cell_type": "code",
   "execution_count": 38,
   "metadata": {},
   "outputs": [
    {
     "data": {
      "text/html": [
       "<div>\n",
       "<style scoped>\n",
       "    .dataframe tbody tr th:only-of-type {\n",
       "        vertical-align: middle;\n",
       "    }\n",
       "\n",
       "    .dataframe tbody tr th {\n",
       "        vertical-align: top;\n",
       "    }\n",
       "\n",
       "    .dataframe thead th {\n",
       "        text-align: right;\n",
       "    }\n",
       "</style>\n",
       "<table border=\"1\" class=\"dataframe\">\n",
       "  <thead>\n",
       "    <tr style=\"text-align: right;\">\n",
       "      <th></th>\n",
       "      <th>Date</th>\n",
       "      <th>EURUSD=X</th>\n",
       "      <th>OIL</th>\n",
       "      <th>FCA</th>\n",
       "      <th>A_cost</th>\n",
       "    </tr>\n",
       "  </thead>\n",
       "  <tbody>\n",
       "    <tr>\n",
       "      <th>0</th>\n",
       "      <td>2018-01-01</td>\n",
       "      <td>1.2005</td>\n",
       "      <td>NaN</td>\n",
       "      <td>NaN</td>\n",
       "      <td>1600</td>\n",
       "    </tr>\n",
       "    <tr>\n",
       "      <th>1</th>\n",
       "      <td>2018-01-02</td>\n",
       "      <td>1.2012</td>\n",
       "      <td>59.15</td>\n",
       "      <td>1187.878788</td>\n",
       "      <td>1600</td>\n",
       "    </tr>\n",
       "    <tr>\n",
       "      <th>2</th>\n",
       "      <td>2018-01-03</td>\n",
       "      <td>1.2063</td>\n",
       "      <td>59.15</td>\n",
       "      <td>1184.547791</td>\n",
       "      <td>1600</td>\n",
       "    </tr>\n",
       "    <tr>\n",
       "      <th>3</th>\n",
       "      <td>2018-01-04</td>\n",
       "      <td>1.2010</td>\n",
       "      <td>59.15</td>\n",
       "      <td>1188.009992</td>\n",
       "      <td>1600</td>\n",
       "    </tr>\n",
       "    <tr>\n",
       "      <th>4</th>\n",
       "      <td>2018-01-05</td>\n",
       "      <td>1.2069</td>\n",
       "      <td>60.44</td>\n",
       "      <td>1201.259425</td>\n",
       "      <td>1600</td>\n",
       "    </tr>\n",
       "    <tr>\n",
       "      <th>...</th>\n",
       "      <td>...</td>\n",
       "      <td>...</td>\n",
       "      <td>...</td>\n",
       "      <td>...</td>\n",
       "      <td>...</td>\n",
       "    </tr>\n",
       "    <tr>\n",
       "      <th>341</th>\n",
       "      <td>2019-04-23</td>\n",
       "      <td>1.1259</td>\n",
       "      <td>67.72</td>\n",
       "      <td>1362.359002</td>\n",
       "      <td>1600</td>\n",
       "    </tr>\n",
       "    <tr>\n",
       "      <th>342</th>\n",
       "      <td>2019-04-24</td>\n",
       "      <td>1.1224</td>\n",
       "      <td>67.14</td>\n",
       "      <td>1357.091946</td>\n",
       "      <td>1600</td>\n",
       "    </tr>\n",
       "    <tr>\n",
       "      <th>343</th>\n",
       "      <td>2019-04-25</td>\n",
       "      <td>1.1153</td>\n",
       "      <td>66.37</td>\n",
       "      <td>1352.138438</td>\n",
       "      <td>1600</td>\n",
       "    </tr>\n",
       "    <tr>\n",
       "      <th>344</th>\n",
       "      <td>2019-04-26</td>\n",
       "      <td>1.1137</td>\n",
       "      <td>64.27</td>\n",
       "      <td>1323.336626</td>\n",
       "      <td>1600</td>\n",
       "    </tr>\n",
       "    <tr>\n",
       "      <th>345</th>\n",
       "      <td>2019-04-29</td>\n",
       "      <td>1.1150</td>\n",
       "      <td>64.94</td>\n",
       "      <td>1331.874439</td>\n",
       "      <td>1600</td>\n",
       "    </tr>\n",
       "  </tbody>\n",
       "</table>\n",
       "<p>346 rows × 5 columns</p>\n",
       "</div>"
      ],
      "text/plain": [
       "          Date  EURUSD=X    OIL          FCA  A_cost\n",
       "0   2018-01-01    1.2005    NaN          NaN    1600\n",
       "1   2018-01-02    1.2012  59.15  1187.878788    1600\n",
       "2   2018-01-03    1.2063  59.15  1184.547791    1600\n",
       "3   2018-01-04    1.2010  59.15  1188.009992    1600\n",
       "4   2018-01-05    1.2069  60.44  1201.259425    1600\n",
       "..         ...       ...    ...          ...     ...\n",
       "341 2019-04-23    1.1259  67.72  1362.359002    1600\n",
       "342 2019-04-24    1.1224  67.14  1357.091946    1600\n",
       "343 2019-04-25    1.1153  66.37  1352.138438    1600\n",
       "344 2019-04-26    1.1137  64.27  1323.336626    1600\n",
       "345 2019-04-29    1.1150  64.94  1331.874439    1600\n",
       "\n",
       "[346 rows x 5 columns]"
      ]
     },
     "execution_count": 38,
     "metadata": {},
     "output_type": "execute_result"
    }
   ],
   "source": [
    "# добавляем столбце с ценами А\n",
    "# Цены на продукт А, который уже есть на рынке Европы\n",
    "# ----- октябрь 2018 - 1600 евро\n",
    "# ----- ноябрь 2018 - 1550 евро\n",
    "# ----- февраль 2019 - 1600 евро\n",
    "\n",
    "A_cost = []\n",
    "\n",
    "for x in dbc['Date']:\n",
    "    if datetime.date(x.year,x.month,x.day) < datetime.date(2018,11,1):\n",
    "        A_cost.append(1600)\n",
    "    elif datetime.date(x.year,x.month,x.day) >= datetime.date(2018,11,1) and datetime.date(x.year,x.month,x.day) < datetime.date(2019,2,1):\n",
    "        A_cost.append(1550)\n",
    "    else: \n",
    "        A_cost.append(1600)\n",
    "\n",
    "dbc['A_cost'] = A_cost\n",
    "dbc\n"
   ]
  },
  {
   "cell_type": "code",
   "execution_count": 39,
   "metadata": {},
   "outputs": [],
   "source": [
    "# Сделать расчет возможной цены по формуле для каждого из клиентов на условиях DDP (цена с доставкой).\n",
    "# Записать все в один эксель файл, на разных листах. Каждый лист - название клиента.\n",
    "\n",
    "filename='excel.xlsx'\n",
    "\n",
    "wb = Workbook()\n",
    "ws =  wb.active\n",
    "#ws.title = \"Changed Sheet\"\n",
    "wb.save(filename = filename)\n",
    "\n",
    "def logistic_costs(name):\n",
    "    if customers[name]['location']=='CN':\n",
    "        costs = CN_LOGISTIC_COST_USD/dbc['EURUSD=X']\n",
    "    else:\n",
    "        costs = EU_LOGISTIC_COST_EUR\n",
    "    return costs\n",
    "\n",
    "def discounts(name):\n",
    "    dist=float\n",
    "    if int(customers[name]['volumes'])<=100:\n",
    "        disc = 0.01\n",
    "    elif int(customers[name]['volumes'])>100 and int(customers[name]['volumes'])<=300:\n",
    "        disc = 0.05\n",
    "    else:\n",
    "        disc = 0.1\n",
    "    return disc\n",
    "\n",
    "book = load_workbook(filename)\n",
    "writer = pd.ExcelWriter(filename, engine='openpyxl', mode='a') \n",
    "writer.book = book\n",
    "#writer.sheets = dict((ws.title, ws) for ws in book.worksheets)\n",
    "writer.save()\n",
    "\n",
    "if os.path.exists(filename):\n",
    "    book = load_workbook(filename)\n",
    "    writer.book = book\n",
    "\n",
    "\n",
    "\n",
    "# Monty\n",
    "\n",
    "sh_nm='Monty'\n",
    "dbc['DDP'] = dbc['OIL']/dbc['EURUSD=X'] * 16 + PRODUCTION_COST + logistic_costs(sh_nm)-discounts(sh_nm)*dbc['A_cost']\n",
    "dbc.to_excel(writer, sheet_name=sh_nm)\n",
    "writer.save()\n",
    "\n",
    "\n",
    "#Triangle\n",
    "\n",
    "sh_nm='Triangle'\n",
    "dbc['DDP'] = dbc['OIL']/dbc['EURUSD=X'] * 16 + PRODUCTION_COST + logistic_costs(sh_nm)-discounts(sh_nm)*dbc['A_cost']\n",
    "dbc.to_excel(writer, sheet_name = sh_nm)\n",
    "writer.save()\n",
    "\n",
    "\n",
    "#Stone\n",
    "\n",
    "sh_nm='Stone'\n",
    "dbc['DDP'] = dbc['OIL']/dbc['EURUSD=X'] * 16 + PRODUCTION_COST + logistic_costs(sh_nm)-discounts(sh_nm)*dbc['A_cost']\n",
    "dbc.to_excel(writer, sheet_name = sh_nm)\n",
    "writer.save()\n",
    "\n",
    "\n",
    "#Poly\n",
    "\n",
    "sh_nm='Poly'\n",
    "dbc['DDP'] = dbc['OIL']/dbc['EURUSD=X'] * 16 + PRODUCTION_COST + logistic_costs(sh_nm)-discounts(sh_nm)*dbc['A_cost']\n",
    "dbc.to_excel(writer, sheet_name = sh_nm)\n",
    "writer.save()\n",
    "\n",
    "del book['Sheet']\n",
    "\n",
    "writer.close()\n"
   ]
  },
  {
   "cell_type": "code",
   "execution_count": 40,
   "metadata": {},
   "outputs": [],
   "source": [
    "#Предложить формулу цены каждому из клиентов на условиях DDP (цена с доставкой).\n",
    "#Создать директорию «для клиентов» и в ней сложить файлы с расчетами.\n",
    "#Каждый клиент - отдельный файл (любой из docx, xlsx, pptx, pdf) с именем клиента…\n",
    "cwd = os.getcwd()\n",
    "if os.path.exists(cwd + '\\clients')==False:\n",
    "    os.makedirs(cwd + '\\clients')\n",
    "\n",
    "\n",
    "# Monty\n",
    "\n",
    "sh_nm='Monty'\n",
    "dbc['DDP'] = dbc['OIL']/dbc['EURUSD=X'] * 16 + PRODUCTION_COST + logistic_costs(sh_nm)-discounts(sh_nm)*dbc['A_cost']\n",
    "dbc.to_excel(cwd + f\"\\clients\\{sh_nm}.xlsx\")\n",
    "\n",
    "#Triangle\n",
    "\n",
    "sh_nm='Triangle'\n",
    "dbc['DDP'] = dbc['OIL']/dbc['EURUSD=X'] * 16 + PRODUCTION_COST + logistic_costs(sh_nm)-discounts(sh_nm)*dbc['A_cost']\n",
    "dbc.to_excel(cwd + f\"\\clients\\{sh_nm}.xlsx\")\n",
    "\n",
    "#Stone\n",
    "\n",
    "sh_nm='Stone'\n",
    "dbc['DDP'] = dbc['OIL']/dbc['EURUSD=X'] * 16 + PRODUCTION_COST + logistic_costs(sh_nm)-discounts(sh_nm)*dbc['A_cost']\n",
    "dbc.to_excel(cwd + f\"\\clients\\{sh_nm}.xlsx\")\n",
    "\n",
    "#Poly\n",
    "\n",
    "sh_nm='Poly'\n",
    "dbc['DDP'] = dbc['OIL']/dbc['EURUSD=X'] * 16 + PRODUCTION_COST + logistic_costs(sh_nm)-discounts(sh_nm)*dbc['A_cost']\n",
    "dbc.to_excel(cwd + f\"\\clients\\{sh_nm}.xlsx\")\n"
   ]
  },
  {
   "cell_type": "markdown",
   "metadata": {},
   "source": [
    "# Задание 2. Back to Russia\n",
    "\n",
    "К вам пришел новый клиент из России. Который использует продукт А и готов регулярно закупать ВБП для того, чтобы не быть привязанным к одному поставщику. Клиент готов забирать ВБП с завода самостоятельно.\n",
    "1. На основе тех данных, которые уже есть предложите цену новому клиенту. \n",
    "2. Подготовьте скрипт, который будет использовать курс публикуемый на <a href='http://www.cbr.ru/currency_base/dynamics/'> сайте ЦБ РФ</a>.\n"
   ]
  },
  {
   "cell_type": "code",
   "execution_count": 41,
   "metadata": {},
   "outputs": [
    {
     "name": "stdout",
     "output_type": "stream",
     "text": [
      "Введите объем продукции за месяц\n",
      "12\n",
      "цена реализации 1302.2213953488372\n"
     ]
    }
   ],
   "source": [
    "# Использую специальный скрипт для определения курса ЦБРФ\n",
    "today = date.today().strftime('%Y-%m-%d')\n",
    "USD_rates = int(ExchangeRates(today)['USD'].value)\n",
    "EUR_rates = int(ExchangeRates(today)['EUR'].value)\n",
    "USD_to_EUR=EUR_rates/USD_rates\n",
    "\n",
    "volumes = 0\n",
    "\n",
    "discounts = {'up to 100': 0.01, # 1%\n",
    "             'up to 300': 0.05, # 5%\n",
    "             '300 plus': 0.1}   #10%\n",
    "\n",
    "dbc['FCA'] = dbc['OIL']/dbc['EURUSD=X'] * 16 + PRODUCTION_COST\n",
    "\n",
    "\n",
    "\n",
    "cwd = os.getcwd()\n",
    "if os.path.exists(cwd + '\\clients')==False:\n",
    "    os.makedirs(cwd + '\\clients')\n",
    "\n",
    "print('Введите объем продукции за месяц')\n",
    "\n",
    "\n",
    "while volumes == 0:\n",
    "    try:\n",
    "        volumes = int(input())\n",
    "    except ValueError:\n",
    "        print('Введите цифру')\n",
    "\n",
    "def discounts(volumes):\n",
    "    dist=float\n",
    "    if volumes<=100:\n",
    "        disc = 0.01\n",
    "    elif volumes>100 and volumes<=300:\n",
    "        disc = 0.05\n",
    "    else:\n",
    "        disc = 0.1\n",
    "    return disc\n",
    "    \n",
    "DDP = dbc['OIL'].tolist()[-1]/USD_to_EUR * 16 + PRODUCTION_COST-discounts(volumes)*dbc['A_cost'].tolist()[-1]\n",
    "\n",
    "print('цена реализации', DDP)\n",
    "\n"
   ]
  },
  {
   "cell_type": "markdown",
   "metadata": {},
   "source": [
    "# Задание 3. Check it"
   ]
  },
  {
   "cell_type": "markdown",
   "metadata": {},
   "source": [
    "* Подумайте, как можно проверить корректность работы алгоритма? \n",
    "* Какие возможны ошибки?\n",
    "* Придумайте тесты для проверки возможных ошибок алгоритма\n",
    "* Интергрируйте их в свои скрипты в виде исключений\n"
   ]
  },
  {
   "cell_type": "code",
   "execution_count": null,
   "metadata": {},
   "outputs": [],
   "source": [
    "# создал ограничение на ввод слов в пердыдущем блоке\n",
    "\n",
    "\n"
   ]
  },
  {
   "cell_type": "markdown",
   "metadata": {},
   "source": [
    "# Задание 4. Поделись с ближним"
   ]
  },
  {
   "cell_type": "markdown",
   "metadata": {},
   "source": [
    "Вы решили пойти в отпуск на время вашего отсутствия вас будет заменять коллега. Он будет заниматься рассчетом цен для клиентов. Чтобы ему было проще вам нужно завернуть ваши скрипты в модуль, который будет запускать у себя коллега."
   ]
  },
  {
   "cell_type": "markdown",
   "metadata": {},
   "source": [
    "* Создайте модуль, который можно запускать в ноутбуке подкладывая в ту же директорию\n",
    "* Хорошенько задокументируйте ВСЁ, но помните о PEP8"
   ]
  },
  {
   "cell_type": "code",
   "execution_count": 42,
   "metadata": {},
   "outputs": [
    {
     "name": "stdout",
     "output_type": "stream",
     "text": [
      "Команда price вызывает расчет цены. \n",
      " Составляющие команды: \n",
      " price(количество продукции, цена продукта А, цена бензина, страна доставки (CN или EU)). \n",
      " Если ввести 0 модуль предложит ввести значения в реальном времени.\n"
     ]
    }
   ],
   "source": [
    "#функция info дает подробную информацию о модуле\n",
    "import Module\n",
    "Module.info()"
   ]
  }
 ],
 "metadata": {
  "kernelspec": {
   "display_name": "Python 3 (ipykernel)",
   "language": "python",
   "name": "python3"
  },
  "language_info": {
   "codemirror_mode": {
    "name": "ipython",
    "version": 3
   },
   "file_extension": ".py",
   "mimetype": "text/x-python",
   "name": "python",
   "nbconvert_exporter": "python",
   "pygments_lexer": "ipython3",
   "version": "3.9.7"
  },
  "toc": {
   "base_numbering": 1,
   "nav_menu": {},
   "number_sections": true,
   "sideBar": true,
   "skip_h1_title": false,
   "title_cell": "Table of Contents",
   "title_sidebar": "Contents",
   "toc_cell": true,
   "toc_position": {},
   "toc_section_display": true,
   "toc_window_display": false
  }
 },
 "nbformat": 4,
 "nbformat_minor": 2
}
